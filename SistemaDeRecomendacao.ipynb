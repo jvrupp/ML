{
  "nbformat": 4,
  "nbformat_minor": 0,
  "metadata": {
    "colab": {
      "name": "SistemaDeRecomendacao.ipynb",
      "provenance": [],
      "collapsed_sections": [],
      "authorship_tag": "ABX9TyNQb0c6fkpImBMBEiRh2BBY",
      "include_colab_link": true
    },
    "kernelspec": {
      "name": "python3",
      "display_name": "Python 3"
    },
    "language_info": {
      "name": "python"
    }
  },
  "cells": [
    {
      "cell_type": "markdown",
      "metadata": {
        "id": "view-in-github",
        "colab_type": "text"
      },
      "source": [
        "<a href=\"https://colab.research.google.com/github/jvrupp/ML/blob/main/SistemaDeRecomendacao.ipynb\" target=\"_parent\"><img src=\"https://colab.research.google.com/assets/colab-badge.svg\" alt=\"Open In Colab\"/></a>"
      ]
    },
    {
      "cell_type": "code",
      "execution_count": null,
      "metadata": {
        "colab": {
          "base_uri": "https://localhost:8080/"
        },
        "id": "B8k5TEmVSb1H",
        "outputId": "aa4042ab-12a9-4dea-a25a-64a3050fb3b6"
      },
      "outputs": [
        {
          "output_type": "stream",
          "name": "stdout",
          "text": [
            "Mounted at /content/drive\n"
          ]
        }
      ],
      "source": [
        "from google.colab import drive\n",
        "drive.mount('/content/drive')"
      ]
    },
    {
      "cell_type": "code",
      "source": [
        "import pandas as pd\n",
        "import  numpy as np\n",
        "avaliacoes = {'Ana': \n",
        "\t\t{'Freddy x Jason': 2.5, \n",
        "\t\t 'O Ultimato Bourne': 3.5,\n",
        "\t\t 'Star Trek': 3.0, \n",
        "\t\t 'Exterminador do Futuro': 3.5, \n",
        "\t\t 'Norbit': 2.5, \n",
        "\t\t 'Star Wars': 3.0},\n",
        "\t \n",
        "\t  'Marcos': \n",
        "\t\t{'Freddy x Jason': 3.0, \n",
        "\t\t 'O Ultimato Bourne': 3.5, \n",
        "\t\t 'Star Trek': 1.5, \n",
        "\t\t 'Exterminador do Futuro': 5.0, \n",
        "\t\t 'Star Wars': 3.0, \n",
        "\t\t 'Norbit': 3.5}, \n",
        "\n",
        "\t  'Pedro': \n",
        "\t    {'Freddy x Jason': 2.5, \n",
        "\t\t 'O Ultimato Bourne': 3.0,\n",
        "\t\t 'Exterminador do Futuro': 3.5, \n",
        "\t\t 'Star Wars': 4.0},\n",
        "\t\t\t \n",
        "\t  'Claudia': \n",
        "\t\t{'O Ultimato Bourne': 3.5, \n",
        "\t\t 'Star Trek': 3.0,\n",
        "\t\t 'Star Wars': 4.5, \n",
        "\t\t 'Exterminador do Futuro': 4.0, \n",
        "\t\t 'Norbit': 2.5},\n",
        "\t\t\t\t \n",
        "\t  'Adriano': \n",
        "\t\t{'Freddy x Jason': 3.0, \n",
        "\t\t 'O Ultimato Bourne': 4.0, \n",
        "\t\t 'Star Trek': 2.0, \n",
        "\t\t 'Exterminador do Futuro': 3.0, \n",
        "\t\t 'Star Wars': 3.0,\n",
        "\t\t 'Norbit': 2.0}, \n",
        "\n",
        "\t  'Janaina': \n",
        "\t     {'Freddy x Jason': 3.0, \n",
        "\t      'O Ultimato Bourne': 4.0,\n",
        "\t      'Star Wars': 3.0, \n",
        "\t      'Exterminador do Futuro': 5.0, \n",
        "\t      'Norbit': 3.5},\n",
        "\t\t\t  \n",
        "\t  'Leonardo': \n",
        "\t    {'O Ultimato Bourne':4.5,\n",
        "             'Norbit':1.0,\n",
        "\t     'Exterminador do Futuro':4.0}\n",
        "}\n",
        "avaliacoes2 = pd.DataFrame(avaliacoes)\n",
        "ava=avaliacoes2.T\n",
        "from math import sqrt \n",
        "def euclidianDistance(usuario1,usuario2,dados):\n",
        "  filmes = dados.keys()\n",
        "  data1=dados[usuario1]\n",
        "  data2=dados[usuario2]\n",
        "  FilmesComuns={}\n",
        "  soma=0\n",
        "  for filme in data1:\n",
        "    if filme in data2:\n",
        "      FilmesComuns[filme]=1\n",
        "    else:\n",
        "      FilmesComuns[filme]=0\n",
        "  for key,value in FilmesComuns.items():\n",
        "    if value ==1:\n",
        "      soma = soma + (pow(data1[key]-data2[key],2))\n",
        "  return 1/(1+sqrt(soma))\n",
        "\n",
        "def ComparaTodos(usuario,listaDeUsuarios,dados):\n",
        "  resultados={}\n",
        "  listaDeUsuarios.remove(usuario)\n",
        "  for nome in listaDeUsuarios:\n",
        "    resultados[nome]=euclidianDistance(usuario,nome,dados)\n",
        "  \n",
        "  serie =pd.Series(resultados)\n",
        "  return serie\n",
        "pessoa='Ana'\n",
        "usuarios=list(avaliacoes.keys())\n",
        "ava.insert(0,'similaridade',ComparaTodos(pessoa,usuarios,avaliacoes))\n",
        "valores_validos=[]\n",
        "for k,i in enumerate(np.isnan(ava.loc[pessoa,:])):\n",
        "  if i == True:\n",
        "    valores_validos.append(k)\n",
        "somas_similaridades=[]\n",
        "somas_similaridades_parciais=[]\n",
        "for i in ava.iloc[:,valores_validos[1:]].columns:\n",
        "  ava['S x {}'.format(i)]=ava['similaridade'] * ava[i]\n",
        "  somas_similaridades.append(ava['S x {}'.format(i)].sum())\n",
        "  somas_similaridades_parciais.append(ava[np.isnan(ava[i]).apply(lambda bol : not bol)]['similaridade'].sum())\n",
        "\n",
        "totais=list(pd.Series(somas_similaridades)/pd.Series(somas_similaridades_parciais))\n",
        "resultados=[]\n",
        "for k,i in enumerate(valores_validos[1:]):\n",
        "  resultados.append((totais[k],ava.columns[i]))"
      ],
      "metadata": {
        "id": "dBh3NRJjXNa1",
        "colab": {
          "base_uri": "https://localhost:8080/"
        },
        "outputId": "ba07aaf1-e95e-491d-b497-91e2465b46c0"
      },
      "execution_count": 7,
      "outputs": [
        {
          "output_type": "stream",
          "name": "stderr",
          "text": [
            "/usr/local/lib/python3.7/dist-packages/ipykernel_launcher.py:93: DeprecationWarning: The default dtype for empty Series will be 'object' instead of 'float64' in a future version. Specify a dtype explicitly to silence this warning.\n"
          ]
        }
      ]
    },
    {
      "cell_type": "code",
      "source": [
        "resultados"
      ],
      "metadata": {
        "id": "OmssHtNWbQhm",
        "colab": {
          "base_uri": "https://localhost:8080/"
        },
        "outputId": "163b2aae-eea4-49c1-cbdd-6f30357082f5"
      },
      "execution_count": 8,
      "outputs": [
        {
          "output_type": "execute_result",
          "data": {
            "text/plain": [
              "[]"
            ]
          },
          "metadata": {},
          "execution_count": 8
        }
      ]
    }
  ]
}